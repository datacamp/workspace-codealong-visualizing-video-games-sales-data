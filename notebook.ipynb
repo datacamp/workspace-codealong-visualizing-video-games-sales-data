{
 "cells": [
  {
   "cell_type": "markdown",
   "id": "42f2b97f-2672-4c9f-a9e9-fd7160ab5dd0",
   "metadata": {},
   "source": [
    "# Visualizing Video Games Sales Data"
   ]
  },
  {
   "cell_type": "markdown",
   "id": "chicken-healthcare",
   "metadata": {
    "jp-MarkdownHeadingCollapsed": true,
    "tags": []
   },
   "source": [
    "In this code-along, we'll use ggplot2 to visualize sales of popular video games in North America, Europe, and Japan.\n",
    "\n",
    "The dataset used here is a subset of the \"Video Games Sales Data\" dataset available in Workspace. The dataset was originally [sourced from Kaggle](https://www.kaggle.com/datasets/gregorut/videogamesales).\n",
    "\n",
    "![](dataset-video-games-sales-data.png)\n",
    "\n",
    "\n",
    "- Every video game in this dataset has at least 100k global sales.\n",
    "- We'll look at games from some of the most popular desktop consoles in the [4th to 8th console generations](https://en.wikipedia.org/wiki/Home_video_game_console_generations).\n",
    "- Since the dataset is from Kaggle, the trustworthiness is questionable. This is for fun, not for real-world business decisions."
   ]
  },
  {
   "cell_type": "markdown",
   "id": "24204308-5951-411b-bd56-e2fbfa3e3028",
   "metadata": {},
   "source": [
    "## Loading packages"
   ]
  },
  {
   "cell_type": "markdown",
   "id": "98ee9b7f-4d50-487a-b374-7a4f9ec97d38",
   "metadata": {},
   "source": [
    "In this code-along, we'll use `readr` to import the dataset, `dplyr` and `forcats` to manipulate the data, and `ggplot2` to visualize the data."
   ]
  },
  {
   "cell_type": "markdown",
   "id": "b98f49f7-7473-4e2c-96a9-f709b2aa8c5f",
   "metadata": {},
   "source": [
    "#### Instructions"
   ]
  },
  {
   "cell_type": "markdown",
   "id": "6e392d85-a28a-4324-856c-03d0df89fc90",
   "metadata": {},
   "source": [
    "- Load the `readr`, `dplyr`, `forcats` and `ggplot2` packages."
   ]
  },
  {
   "cell_type": "code",
   "execution_count": null,
   "id": "dd45011c-c387-4cc3-a689-c54eb012ed6d",
   "metadata": {},
   "outputs": [],
   "source": [
    "# Load readr, dplyr, forcats, ggplot2\n"
   ]
  },
  {
   "cell_type": "markdown",
   "id": "ba29528e-23f6-43ef-a0b5-bc0a6931f62c",
   "metadata": {},
   "source": [
    "The following lines of code make it easier to see the visualizations during the webinar."
   ]
  },
  {
   "cell_type": "code",
   "execution_count": null,
   "id": "2ecd31c8-3c77-4c75-9cf2-9b6f986f51b4",
   "metadata": {
    "tags": []
   },
   "outputs": [],
   "source": [
    "# Set the default figure font size to 20 (and use the gray theme for plot colors)\n",
    "theme_set(theme_gray(20))\n",
    "\n",
    "# Display plots in the workspace with a width of 10 inches and a height of 7 inches\n",
    "opts <- options(repr.plot.width = 10, repr.plot.height = 8)"
   ]
  },
  {
   "cell_type": "markdown",
   "id": "063cdc3e-2f21-4972-93dd-8554352d3ccd",
   "metadata": {},
   "source": [
    "## Import the dataset"
   ]
  },
  {
   "cell_type": "markdown",
   "id": "6fae6b12-eab1-495b-888c-d2e2a13720d2",
   "metadata": {},
   "source": [
    "The dataset is stored in a CSV file named `vgsales.csv` in the `data` directory."
   ]
  },
  {
   "cell_type": "markdown",
   "id": "c63d7d1f-32ce-4bfd-90a0-9bafbf7e0839",
   "metadata": {},
   "source": [
    "#### Instructions"
   ]
  },
  {
   "cell_type": "markdown",
   "id": "aa4ba589-ac5d-4672-94bf-804817a15776",
   "metadata": {},
   "source": [
    "- Read the CSV file \"data/vgsales.csv\". Assign the result to `vgsales`.\n",
    "- Glimpse at the column information in `vgsales`."
   ]
  },
  {
   "cell_type": "code",
   "execution_count": null,
   "id": "progressive-volleyball",
   "metadata": {
    "message": false,
    "name": "setup"
   },
   "outputs": [],
   "source": [
    "# Read the CSV file \"data/vgsales.csv\"\n",
    "vgsales <- \n",
    "\n",
    "# Glimpse the result\n"
   ]
  },
  {
   "cell_type": "markdown",
   "id": "5b8edbb4-ca6f-47f0-8f95-459a79fa3eaf",
   "metadata": {},
   "source": [
    "#### Data dictionary"
   ]
  },
  {
   "cell_type": "markdown",
   "id": "9c8b641f-bbe1-44c2-bb27-764036a9a09b",
   "metadata": {},
   "source": [
    "- `Name`: The name of the game.\n",
    "- `Year`: The year that the game was released on the platform.\n",
    "- `Platform`: The name of the console platform that the games was released on.\n",
    "- `Platform_Generation`: The console generation of the platform.\n",
    "- `Platform_Company`: The company that made the console platform.\n",
    "- `NA_Sales`: Millions of units sold on that platform in North America.\n",
    "- `EU_Sales`: Millions of units sold on that platform in Europe.\n",
    "- `JP_Sales`: Millions of units sold on that platform in Japan.\n",
    "- `Global_Sales`: Millions of units sold on that platform globally."
   ]
  },
  {
   "cell_type": "markdown",
   "id": "c2529c87-3436-4285-b657-1d4695363b39",
   "metadata": {},
   "source": [
    "## Drawing bar plots"
   ]
  },
  {
   "cell_type": "markdown",
   "id": "050bb417-75b3-4730-b16e-3b2f68aa45f0",
   "metadata": {},
   "source": [
    "### What are the top selling video games in the dataset?"
   ]
  },
  {
   "cell_type": "markdown",
   "id": "7c5cde4e-6f09-4545-bf93-38ae2763b4fd",
   "metadata": {},
   "source": [
    "Let's start by visualizing which games in the dataset were the top sellers. Since we want to plot a numeric variable (`Global_Sales`), split by a categorical variable (`Name`), a bar plot is the ideal choice.\n",
    "\n",
    "There's a slight catch: some video games are available on multiple platforms. Look at the rows of the dataset for *Grand Theft Auto V* to see this."
   ]
  },
  {
   "cell_type": "markdown",
   "id": "71211827-b8e6-4338-a1d7-860f57713e50",
   "metadata": {},
   "source": [
    "#### Instructions"
   ]
  },
  {
   "cell_type": "markdown",
   "id": "be50d40c-f06e-4486-ae99-855883827f58",
   "metadata": {},
   "source": [
    "- Using `vgsales`, filter for rows where `Name` equals `\"Grand Theft Auto V\"`."
   ]
  },
  {
   "cell_type": "code",
   "execution_count": null,
   "id": "8de48512-1bd4-461b-8af0-cb4f5a359168",
   "metadata": {},
   "outputs": [],
   "source": [
    "# Using vgsales, filter for rows where Name equals \"Grand Theft Auto V\"\n"
   ]
  },
  {
   "cell_type": "markdown",
   "id": "655d665b-56be-445d-99e4-3dfba6c6d3df",
   "metadata": {},
   "source": [
    "We need to get the total sales for each video game aross all platforms, then get the top 10 sellers."
   ]
  },
  {
   "cell_type": "markdown",
   "id": "99ac7498-f1f6-4683-afb2-df29c3909160",
   "metadata": {},
   "source": [
    "#### Instructions"
   ]
  },
  {
   "cell_type": "markdown",
   "id": "e298c67d-74d0-419b-8486-c93ca0b160f0",
   "metadata": {},
   "source": [
    "- Using `vgsales`, group by `Name`, then summarize to calculate `Total_Global_Sales` as the sum of `Global_Sales`. Assign to `global_sales_by_name`.\n",
    "- Slice `global_sales_by_name` to get the top 10 rows by maximum `Total_Global_Sales`. Assign to `top_global_sales_by_name`."
   ]
  },
  {
   "cell_type": "code",
   "execution_count": null,
   "id": "6da4c06d-f381-4d0a-a236-232eeae3c537",
   "metadata": {},
   "outputs": [],
   "source": [
    "# Using vgsales, group by Name, then summarize to calculate Total_Global_Sales as the sum of Global_Sales\n",
    "global_sales_by_name <- \n",
    "\n",
    "\n",
    "# Slice global_sales_by_name for top 10 rows by maximum Total_Global_Sales\n",
    "top_global_sales_by_name <- \n",
    "\n",
    "\n",
    "# See the result\n",
    "top_global_sales_by_name"
   ]
  },
  {
   "cell_type": "markdown",
   "id": "c27b14a8-d363-4a91-87fe-000f2af3c23c",
   "metadata": {},
   "source": [
    "Now we can draw a bar plot of `Total_Global_Sales` versus `Name`. Since the data is already summarized (one game per row), ggplot2 refers to this type of bar plot as a \"column plot\"."
   ]
  },
  {
   "cell_type": "markdown",
   "id": "4234cff6-734b-48e9-aa61-d91985258418",
   "metadata": {},
   "source": [
    "#### Instructions"
   ]
  },
  {
   "cell_type": "markdown",
   "id": "feb3a6bc-b6bc-40c7-8f95-0af99c096f85",
   "metadata": {},
   "source": [
    "- Using `top_global_sales_by_name`, plot `Total_Global_Sales` versus `Name`.\n",
    "- Add a column geom."
   ]
  },
  {
   "cell_type": "code",
   "execution_count": null,
   "id": "5f1baee4-e6ff-4048-91c3-973bd25dac86",
   "metadata": {},
   "outputs": [],
   "source": [
    "# Using top_global_sales_by_name, plot Total_Global_Sales versus Name\n",
    "# Add a column geom\n",
    "\n"
   ]
  },
  {
   "cell_type": "markdown",
   "id": "c1e29780-e0ad-4029-9f97-12e95260cb73",
   "metadata": {},
   "source": [
    "This is a good start, but the game name labels are overlapping. We can flip the axis coordinates to solve this."
   ]
  },
  {
   "cell_type": "markdown",
   "id": "83caa971-479b-4148-899d-f52c7e7de252",
   "metadata": {},
   "source": [
    "#### Instructions"
   ]
  },
  {
   "cell_type": "markdown",
   "id": "653e9c4a-2468-41e7-a17e-0334c6976977",
   "metadata": {},
   "source": [
    "- Redraw the previous plot, but with the x and y axes flipped."
   ]
  },
  {
   "cell_type": "code",
   "execution_count": null,
   "id": "60e4560d-76fe-4c4c-a5a1-edac2c484812",
   "metadata": {},
   "outputs": [],
   "source": [
    "# Redraw the previous plot\n",
    "# Use flipped coordinates\n",
    "\n"
   ]
  },
  {
   "cell_type": "markdown",
   "id": "0354022a-12d6-421d-8685-702ef11335fc",
   "metadata": {},
   "source": [
    "Currently the bars are ordered by alphabetical name of the game. It's easier to read the plot if the bars are ordered from longest to shortest."
   ]
  },
  {
   "cell_type": "markdown",
   "id": "58135eb6-62f1-4bd8-b428-26938b774d43",
   "metadata": {},
   "source": [
    "#### Instructions"
   ]
  },
  {
   "cell_type": "markdown",
   "id": "550e7a75-14ca-413e-82b2-36818809c287",
   "metadata": {},
   "source": [
    "- Mutate `top_global_sales_by_name` so `Name` is reordered by `Total_Global_Sales`. Assign to `top_global_sales_by_name_ordered`.\n",
    "- Redraw the previous plot."
   ]
  },
  {
   "cell_type": "code",
   "execution_count": null,
   "id": "299ab6e2-eac8-45d8-8976-2a5cc0183882",
   "metadata": {},
   "outputs": [],
   "source": [
    "# Mutate top_global_sales_by_name so Name is reordered by Total_Global_Sales\n",
    "top_global_sales_by_name_ordered <- \n",
    "\n",
    "# Redraw the previous plot\n",
    "\n"
   ]
  },
  {
   "cell_type": "markdown",
   "id": "a253d747-52a4-4c5e-b9d3-0251e19b43b3",
   "metadata": {},
   "source": [
    "## Drawing line plots"
   ]
  },
  {
   "cell_type": "markdown",
   "id": "377a37a0-0b81-4a88-bb75-59b5541c5633",
   "metadata": {},
   "source": [
    "To explore questions around how numeric metrics change from year to year line plots are ideal.\n",
    "\n",
    "For simplicity, let's first look at the 7th generation of consoles. We need to filter the dataset."
   ]
  },
  {
   "cell_type": "markdown",
   "id": "9bf85391-3c6e-457b-8469-96bd164bcb4e",
   "metadata": {},
   "source": [
    "#### Instructions"
   ]
  },
  {
   "cell_type": "markdown",
   "id": "6ba20306-db44-4c36-b678-ee03ba7066d4",
   "metadata": {},
   "source": [
    "- Using `vgsales`, filter for rows where `Platform_Generation` is equal to `\"7th\"`. Assign to `seventh_generation`."
   ]
  },
  {
   "cell_type": "code",
   "execution_count": null,
   "id": "cd74ab3c-84ad-43ce-a908-b5c30e12c2b6",
   "metadata": {},
   "outputs": [],
   "source": [
    "# Using vgsales, filter for rows where Platform_Generation is equal to \"7th\"\n",
    "seventh_generation <- \n",
    "\n",
    "\n",
    "# See the result\n",
    "seventh_generation"
   ]
  },
  {
   "cell_type": "markdown",
   "id": "09178232-6ff0-4889-8990-8541402aeef2",
   "metadata": {},
   "source": [
    "### What are the total yearly sales of the 7th gen games included in the dataset?"
   ]
  },
  {
   "cell_type": "markdown",
   "id": "e8a0e7f3-1493-4244-9c49-9fd1ef60dde5",
   "metadata": {},
   "source": [
    "The 7th generation of consoles is widely considered to have run from 2005 to 2017. By looking at total sales by year, we can get a sense of when this generation peaked in popularity."
   ]
  },
  {
   "cell_type": "markdown",
   "id": "2f507ca4-6a4e-4e25-a12d-21d14dd2bcad",
   "metadata": {},
   "source": [
    "#### Instructions"
   ]
  },
  {
   "cell_type": "markdown",
   "id": "c6ac2fc2-8f0d-4cea-af67-74f0071631eb",
   "metadata": {},
   "source": [
    "- Using `seventh_generation`, group by `Year`, then summarize to calculate `Total_Global_Sales` as the sum of `Global_Sales`. Assign to `total_7th_gen_global_sales_by_year`."
   ]
  },
  {
   "cell_type": "code",
   "execution_count": null,
   "id": "eadf0fc4-f3f0-4021-86e4-82582f123352",
   "metadata": {},
   "outputs": [],
   "source": [
    "# Using seventh_generation,  \n",
    "# group by Year,  \n",
    "# then summarize to calculate Total_Global_Sales as the sum of Global_Sales\n",
    "total_7th_gen_global_sales_by_year <- \n",
    "\n",
    "\n",
    "# See the result\n",
    "total_7th_gen_global_sales_by_year"
   ]
  },
  {
   "cell_type": "markdown",
   "id": "ab80e3b4-85bc-4988-8d4c-4a6ddf11bdfa",
   "metadata": {},
   "source": [
    "Now we can visualize these sales over time with a line plot."
   ]
  },
  {
   "cell_type": "markdown",
   "id": "94bb322c-e547-46ec-a513-c38c90760467",
   "metadata": {},
   "source": [
    "#### Instructions"
   ]
  },
  {
   "cell_type": "markdown",
   "id": "380fff04-8c02-43c6-894b-ed3a4fbb158c",
   "metadata": {},
   "source": [
    "- Using `total_7th_gen_global_sales_by_year`, plot `Total_Global_Sales` versus `Year`.\n",
    "- Add a line geom. To make the line easier to see, set the size to `2`."
   ]
  },
  {
   "cell_type": "code",
   "execution_count": null,
   "id": "e0b9333e-69a0-4fb0-a994-8a60be45826c",
   "metadata": {},
   "outputs": [],
   "source": [
    "# Using total_7th_gen_global_sales_by_year, plot Total_Global_Sales versus Year\n",
    "# Add a line geom with size 2\n",
    "\n"
   ]
  },
  {
   "cell_type": "markdown",
   "id": "f73ad26d-e7ef-4570-bf48-4921e3907548",
   "metadata": {},
   "source": [
    "### What's the split of those games by platform?"
   ]
  },
  {
   "cell_type": "markdown",
   "id": "35a0befb-698f-4297-bd35-ee7c2a34efc5",
   "metadata": {},
   "source": [
    "Over all the 7th generation platforms, (based on the games in the dataset) the sales peaked in 2009. But the peak for individual platforms may have been in different years. We can explore this by drawing a separate line for each platform."
   ]
  },
  {
   "cell_type": "markdown",
   "id": "a6ab00b1-a1a6-4b27-a3b4-17b122b13389",
   "metadata": {},
   "source": [
    "#### Instructions"
   ]
  },
  {
   "cell_type": "markdown",
   "id": "02887758-ac9d-4180-970a-d399feef8fd3",
   "metadata": {},
   "source": [
    "- Using `seventh_generation`, group by `Year` and `Platform`, then summarize to calculate `Total_Global_Sales` as the sum of `Global_Sales`. Drop all groups from the summarization. Assign to `total_7th_gen_global_sales_by_year_platform`.\n",
    "- Using `total_7th_gen_global_sales_by_year_platform`, plot `Total_Global_Sales` versus `Year`, colored by `Platform`.\n",
    "- Add a line geom with size `2`."
   ]
  },
  {
   "cell_type": "code",
   "execution_count": null,
   "id": "0ef3d502-a5aa-4689-804e-4521eca12a1b",
   "metadata": {},
   "outputs": [],
   "source": [
    "# Using seventh_generation,  \n",
    "# group by Year and Platform,  \n",
    "# then summarize to calculate Total_Global_Sales as the sum of Global_Sales\n",
    "total_7th_gen_global_sales_by_year_platform <- \n",
    "\n",
    "\n",
    "# Using total_7th_gen_global_sales_by_year_platform, plot Total_Global_Sales versus Year, colored by Platform.\n",
    "# Add a line geom with size 2\n",
    "\n"
   ]
  },
  {
   "cell_type": "markdown",
   "id": "1f4b6537-997b-4f6a-bd6c-8164f6e7844e",
   "metadata": {},
   "source": [
    "How do you interpet this plot?"
   ]
  },
  {
   "cell_type": "markdown",
   "id": "f13a3a77-d339-4c0d-8ba0-c91ac0037fcb",
   "metadata": {},
   "source": [
    "*add your answer here*"
   ]
  },
  {
   "cell_type": "markdown",
   "id": "b699bea9-7c0f-47d8-9554-5fd3f794cbdb",
   "metadata": {},
   "source": [
    "### How can we visualize all generations together?"
   ]
  },
  {
   "cell_type": "markdown",
   "id": "731f0e42-0048-4bef-9114-97156d8ff037",
   "metadata": {},
   "source": [
    "Let's try the same plot again with all the data from `vgsales`."
   ]
  },
  {
   "cell_type": "markdown",
   "id": "f3b0fbdd-87e5-484c-8705-31696f8f064e",
   "metadata": {},
   "source": [
    "#### Instructions"
   ]
  },
  {
   "cell_type": "markdown",
   "id": "f2552438-61d2-4aea-8dbd-732679f1da3b",
   "metadata": {},
   "source": [
    "- Rework the previous plot, but start with `vgsales`."
   ]
  },
  {
   "cell_type": "code",
   "execution_count": null,
   "id": "4430cb74-bd8e-40a4-add0-a05bd39a2440",
   "metadata": {},
   "outputs": [],
   "source": [
    "# Using vgsales, \n",
    "# group by Year and Platform,  \n",
    "# then summarize to calculate Total_Global_Sales as the sum of Global_Sales\n",
    "total_global_sales_by_year_platform <- \n",
    "\n",
    "\n",
    "# Using total_global_sales_by_year_platform, plot Total_Global_Sales versus Year, colored by Platform.\n",
    "# Add a line geom with size 2\n",
    "\n"
   ]
  },
  {
   "cell_type": "markdown",
   "id": "8a6aef3c-cc03-465d-b96e-badff67a679b",
   "metadata": {},
   "source": [
    "This is really messy! With so many colors it is hard to tell what is going on. The plot can be made clearer by using one color for each company, and by plotting each generation in its own panel."
   ]
  },
  {
   "cell_type": "markdown",
   "id": "8eac64d0-881b-4ad1-b8e9-69b99f825f71",
   "metadata": {},
   "source": [
    "#### Instructions"
   ]
  },
  {
   "cell_type": "markdown",
   "id": "097033a8-fedc-4ba3-8f34-ea03e685df7c",
   "metadata": {},
   "source": [
    "- Using `vgsales`, group by `Year`, `Platform_Company` and `Platform_Generation`, then summarize to calculate `Total_Global_Sales` as the sum of `Global_Sales`. Drop all groups from the summarization. Assign to `total_global_sales_by_year_platform`.\n",
    "- Using `total_global_sales_by_year_platform`, plot `Total_Global_Sales` versus `Year`, colored by `Platform_Company`.\n",
    "- Add a line geom with size `2`.\n",
    "- Facet the plot, wrapping by `Platform_Generation`."
   ]
  },
  {
   "cell_type": "code",
   "execution_count": null,
   "id": "9d9c8791-8c91-45ef-a86a-7f6db9adc5e8",
   "metadata": {},
   "outputs": [],
   "source": [
    "# Using vgsales, \n",
    "# group by Year, Platform_Company and Platform_Generation, \n",
    "# then summarize to calculate Total_Global_Sales as the sum of Global_Sales\n",
    "total_global_sales_by_year_platform <- \n",
    "\n",
    "\n",
    "# Using total_global_sales_by_year_platform, plot Total_Global_Sales versus Year, colored by Platform_Company\n",
    "# Add a line geom with size 2\n",
    "# Facet the plot, wrapping by Platform_Generation.\n",
    "\n"
   ]
  },
  {
   "cell_type": "markdown",
   "id": "79bf4854-11b5-4aa4-b2fb-3e7318cf9086",
   "metadata": {},
   "source": [
    "This is much clearer, but it's a bit tricky to compare timelines for generations that are side by side. It would be easier to see what is happening if we put all the panels in a single column."
   ]
  },
  {
   "cell_type": "markdown",
   "id": "ab7b9750-4048-4380-8984-b8182ac637c8",
   "metadata": {},
   "source": [
    "#### Instructions"
   ]
  },
  {
   "cell_type": "markdown",
   "id": "13441c56-545c-419c-96a9-69c6dc4fbec0",
   "metadata": {},
   "source": [
    "- Redraw the same plot, with 1 column in the facetting."
   ]
  },
  {
   "cell_type": "code",
   "execution_count": null,
   "id": "7484655b-7960-420d-b8ef-3f0de959a2cb",
   "metadata": {},
   "outputs": [],
   "source": [
    "# Redraw the same plot, with 1 column in the facetting\n",
    "\n"
   ]
  }
 ],
 "metadata": {
  "editor": "DataCamp Workspace",
  "kernelspec": {
   "display_name": "R",
   "language": "R",
   "name": "ir"
  },
  "language_info": {
   "codemirror_mode": "r",
   "file_extension": ".r",
   "mimetype": "text/x-r-source",
   "name": "R",
   "pygments_lexer": "r",
   "version": "4.1.2"
  }
 },
 "nbformat": 4,
 "nbformat_minor": 5
}
